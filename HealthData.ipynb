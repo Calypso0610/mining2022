{
  "nbformat": 4,
  "nbformat_minor": 0,
  "metadata": {
    "colab": {
      "provenance": [],
      "collapsed_sections": []
    },
    "kernelspec": {
      "name": "python3",
      "display_name": "Python 3"
    },
    "language_info": {
      "name": "python"
    }
  },
  "cells": [
    {
      "cell_type": "markdown",
      "source": [
        "#1.데이터 불러오기"
      ],
      "metadata": {
        "id": "kZ2fD31_RhzD"
      }
    },
    {
      "cell_type": "code",
      "execution_count": 1,
      "metadata": {
        "id": "iQe7_I_qRbNR"
      },
      "outputs": [],
      "source": [
        "import pandas as pd"
      ]
    },
    {
      "cell_type": "code",
      "source": [
        "df = pd.read_csv(\"/content/drive/MyDrive/Colab Notebooks/ITB/health_data.csv\", encoding=\"utf=8\")\n",
        "hd = df.copy()\n",
        "hd.info()"
      ],
      "metadata": {
        "colab": {
          "base_uri": "https://localhost:8080/"
        },
        "id": "ggRePsgnRmGO",
        "outputId": "ede335f5-658b-4c87-c4b4-992530fd18e2"
      },
      "execution_count": 2,
      "outputs": [
        {
          "output_type": "stream",
          "name": "stdout",
          "text": [
            "<class 'pandas.core.frame.DataFrame'>\n",
            "RangeIndex: 10000 entries, 0 to 9999\n",
            "Data columns (total 31 columns):\n",
            " #   Column       Non-Null Count  Dtype  \n",
            "---  ------       --------------  -----  \n",
            " 0   기준년도         10000 non-null  int64  \n",
            " 1   가입자일련번호      10000 non-null  int64  \n",
            " 2   시도코드         10000 non-null  int64  \n",
            " 3   성별코드         10000 non-null  object \n",
            " 4   연령대코드(5세단위)  10000 non-null  int64  \n",
            " 5   신장(5Cm단위)    10000 non-null  int64  \n",
            " 6   체중(5Kg 단위)   10000 non-null  int64  \n",
            " 7   허리둘레         10000 non-null  float64\n",
            " 8   시력(좌)        10000 non-null  float64\n",
            " 9   시력(우)        10000 non-null  float64\n",
            " 10  청력(좌)        10000 non-null  int64  \n",
            " 11  청력(우)        10000 non-null  int64  \n",
            " 12  수축기혈압        9912 non-null   float64\n",
            " 13  이완기혈압        9912 non-null   float64\n",
            " 14  식전혈당(공복혈당)   9912 non-null   float64\n",
            " 15  총콜레스테롤       4044 non-null   float64\n",
            " 16  트리글리세라이드     4044 non-null   float64\n",
            " 17  HDL콜레스테롤     4044 non-null   float64\n",
            " 18  LDL콜레스테롤     3977 non-null   float64\n",
            " 19  혈색소          9912 non-null   float64\n",
            " 20  요단백          9861 non-null   float64\n",
            " 21  혈청크레아티닌      9912 non-null   float64\n",
            " 22  (혈청지오티)AST   9912 non-null   float64\n",
            " 23  (혈청지오티)ALT   9912 non-null   float64\n",
            " 24  감마지티피        9912 non-null   float64\n",
            " 25  흡연상태         9998 non-null   object \n",
            " 26  음주여부         9999 non-null   object \n",
            " 27  구강검진수검여부     10000 non-null  int64  \n",
            " 28  치아우식증유무      3251 non-null   float64\n",
            " 29  치석           3251 non-null   float64\n",
            " 30  데이터공개일자      10000 non-null  object \n",
            "dtypes: float64(18), int64(9), object(4)\n",
            "memory usage: 2.4+ MB\n"
          ]
        }
      ]
    },
    {
      "cell_type": "markdown",
      "source": [
        "# 2.데이터 전처리"
      ],
      "metadata": {
        "id": "U2vFvbUpxvLm"
      }
    },
    {
      "cell_type": "code",
      "source": [
        "hd_null = hd.isnull().sum()\n",
        "print(hd_null.sort_values(ascending = False))"
      ],
      "metadata": {
        "colab": {
          "base_uri": "https://localhost:8080/"
        },
        "id": "DlgxQiWgsKho",
        "outputId": "27eb3d69-bbed-474a-8b3d-14e7c91af043"
      },
      "execution_count": 3,
      "outputs": [
        {
          "output_type": "stream",
          "name": "stdout",
          "text": [
            "치석             6749\n",
            "치아우식증유무        6749\n",
            "LDL콜레스테롤       6023\n",
            "총콜레스테롤         5956\n",
            "트리글리세라이드       5956\n",
            "HDL콜레스테롤       5956\n",
            "요단백             139\n",
            "감마지티피            88\n",
            "(혈청지오티)ALT       88\n",
            "혈청크레아티닌          88\n",
            "수축기혈압            88\n",
            "이완기혈압            88\n",
            "식전혈당(공복혈당)       88\n",
            "혈색소              88\n",
            "(혈청지오티)AST       88\n",
            "흡연상태              2\n",
            "음주여부              1\n",
            "구강검진수검여부          0\n",
            "기준년도              0\n",
            "가입자일련번호           0\n",
            "청력(우)             0\n",
            "청력(좌)             0\n",
            "시력(우)             0\n",
            "시력(좌)             0\n",
            "허리둘레              0\n",
            "체중(5Kg 단위)        0\n",
            "신장(5Cm단위)         0\n",
            "연령대코드(5세단위)       0\n",
            "성별코드              0\n",
            "시도코드              0\n",
            "데이터공개일자           0\n",
            "dtype: int64\n"
          ]
        }
      ]
    },
    {
      "cell_type": "code",
      "source": [
        "hd = hd.rename(columns={'성별코드':'성별'},)"
      ],
      "metadata": {
        "id": "MMVBPHoT-eo2"
      },
      "execution_count": 4,
      "outputs": []
    },
    {
      "cell_type": "code",
      "source": [
        "hd['성별'] = hd['성별'].replace(['M','F'], ['남자', '여자']) "
      ],
      "metadata": {
        "id": "vQDHS1JsD9-C"
      },
      "execution_count": 5,
      "outputs": []
    },
    {
      "cell_type": "code",
      "source": [
        "hd.head()"
      ],
      "metadata": {
        "colab": {
          "base_uri": "https://localhost:8080/",
          "height": 384
        },
        "id": "sXzrxyqtEOt-",
        "outputId": "b07929dc-7af1-43b6-d4f5-6d4d60996ec8"
      },
      "execution_count": 6,
      "outputs": [
        {
          "output_type": "execute_result",
          "data": {
            "text/plain": [
              "   기준년도  가입자일련번호  시도코드  성별  연령대코드(5세단위)  신장(5Cm단위)  체중(5Kg 단위)  허리둘레  시력(좌)  \\\n",
              "0  2020        1    36  남자            9        165          60  72.1    1.2   \n",
              "1  2020        2    27  여자           13        150          65  81.0    0.8   \n",
              "2  2020        3    11  여자           12        155          55  70.0    0.6   \n",
              "3  2020        4    31  남자           13        160          70  90.8    1.0   \n",
              "4  2020        5    41  여자           12        155          50  75.2    1.5   \n",
              "\n",
              "   시력(우)  ...  혈청크레아티닌  (혈청지오티)AST  (혈청지오티)ALT  감마지티피  흡연상태  음주여부  구강검진수검여부  \\\n",
              "0    1.5  ...      1.1        21.0        27.0   21.0    No    No         0   \n",
              "1    0.8  ...      0.5        18.0        15.0   15.0    No    No         0   \n",
              "2    0.7  ...      0.7        27.0        25.0    7.0    No    No         0   \n",
              "3    1.0  ...      1.2        65.0        97.0   72.0    No    No         1   \n",
              "4    1.2  ...      0.7        18.0        17.0   14.0    No    No         0   \n",
              "\n",
              "   치아우식증유무   치석     데이터공개일자  \n",
              "0      NaN  NaN  12/29/2021  \n",
              "1      NaN  NaN  12/29/2021  \n",
              "2      NaN  NaN  12/29/2021  \n",
              "3      0.0  0.0  12/29/2021  \n",
              "4      NaN  NaN  12/29/2021  \n",
              "\n",
              "[5 rows x 31 columns]"
            ],
            "text/html": [
              "\n",
              "  <div id=\"df-9fa2b7fd-5e45-4932-94f6-e4e597a23af6\">\n",
              "    <div class=\"colab-df-container\">\n",
              "      <div>\n",
              "<style scoped>\n",
              "    .dataframe tbody tr th:only-of-type {\n",
              "        vertical-align: middle;\n",
              "    }\n",
              "\n",
              "    .dataframe tbody tr th {\n",
              "        vertical-align: top;\n",
              "    }\n",
              "\n",
              "    .dataframe thead th {\n",
              "        text-align: right;\n",
              "    }\n",
              "</style>\n",
              "<table border=\"1\" class=\"dataframe\">\n",
              "  <thead>\n",
              "    <tr style=\"text-align: right;\">\n",
              "      <th></th>\n",
              "      <th>기준년도</th>\n",
              "      <th>가입자일련번호</th>\n",
              "      <th>시도코드</th>\n",
              "      <th>성별</th>\n",
              "      <th>연령대코드(5세단위)</th>\n",
              "      <th>신장(5Cm단위)</th>\n",
              "      <th>체중(5Kg 단위)</th>\n",
              "      <th>허리둘레</th>\n",
              "      <th>시력(좌)</th>\n",
              "      <th>시력(우)</th>\n",
              "      <th>...</th>\n",
              "      <th>혈청크레아티닌</th>\n",
              "      <th>(혈청지오티)AST</th>\n",
              "      <th>(혈청지오티)ALT</th>\n",
              "      <th>감마지티피</th>\n",
              "      <th>흡연상태</th>\n",
              "      <th>음주여부</th>\n",
              "      <th>구강검진수검여부</th>\n",
              "      <th>치아우식증유무</th>\n",
              "      <th>치석</th>\n",
              "      <th>데이터공개일자</th>\n",
              "    </tr>\n",
              "  </thead>\n",
              "  <tbody>\n",
              "    <tr>\n",
              "      <th>0</th>\n",
              "      <td>2020</td>\n",
              "      <td>1</td>\n",
              "      <td>36</td>\n",
              "      <td>남자</td>\n",
              "      <td>9</td>\n",
              "      <td>165</td>\n",
              "      <td>60</td>\n",
              "      <td>72.1</td>\n",
              "      <td>1.2</td>\n",
              "      <td>1.5</td>\n",
              "      <td>...</td>\n",
              "      <td>1.1</td>\n",
              "      <td>21.0</td>\n",
              "      <td>27.0</td>\n",
              "      <td>21.0</td>\n",
              "      <td>No</td>\n",
              "      <td>No</td>\n",
              "      <td>0</td>\n",
              "      <td>NaN</td>\n",
              "      <td>NaN</td>\n",
              "      <td>12/29/2021</td>\n",
              "    </tr>\n",
              "    <tr>\n",
              "      <th>1</th>\n",
              "      <td>2020</td>\n",
              "      <td>2</td>\n",
              "      <td>27</td>\n",
              "      <td>여자</td>\n",
              "      <td>13</td>\n",
              "      <td>150</td>\n",
              "      <td>65</td>\n",
              "      <td>81.0</td>\n",
              "      <td>0.8</td>\n",
              "      <td>0.8</td>\n",
              "      <td>...</td>\n",
              "      <td>0.5</td>\n",
              "      <td>18.0</td>\n",
              "      <td>15.0</td>\n",
              "      <td>15.0</td>\n",
              "      <td>No</td>\n",
              "      <td>No</td>\n",
              "      <td>0</td>\n",
              "      <td>NaN</td>\n",
              "      <td>NaN</td>\n",
              "      <td>12/29/2021</td>\n",
              "    </tr>\n",
              "    <tr>\n",
              "      <th>2</th>\n",
              "      <td>2020</td>\n",
              "      <td>3</td>\n",
              "      <td>11</td>\n",
              "      <td>여자</td>\n",
              "      <td>12</td>\n",
              "      <td>155</td>\n",
              "      <td>55</td>\n",
              "      <td>70.0</td>\n",
              "      <td>0.6</td>\n",
              "      <td>0.7</td>\n",
              "      <td>...</td>\n",
              "      <td>0.7</td>\n",
              "      <td>27.0</td>\n",
              "      <td>25.0</td>\n",
              "      <td>7.0</td>\n",
              "      <td>No</td>\n",
              "      <td>No</td>\n",
              "      <td>0</td>\n",
              "      <td>NaN</td>\n",
              "      <td>NaN</td>\n",
              "      <td>12/29/2021</td>\n",
              "    </tr>\n",
              "    <tr>\n",
              "      <th>3</th>\n",
              "      <td>2020</td>\n",
              "      <td>4</td>\n",
              "      <td>31</td>\n",
              "      <td>남자</td>\n",
              "      <td>13</td>\n",
              "      <td>160</td>\n",
              "      <td>70</td>\n",
              "      <td>90.8</td>\n",
              "      <td>1.0</td>\n",
              "      <td>1.0</td>\n",
              "      <td>...</td>\n",
              "      <td>1.2</td>\n",
              "      <td>65.0</td>\n",
              "      <td>97.0</td>\n",
              "      <td>72.0</td>\n",
              "      <td>No</td>\n",
              "      <td>No</td>\n",
              "      <td>1</td>\n",
              "      <td>0.0</td>\n",
              "      <td>0.0</td>\n",
              "      <td>12/29/2021</td>\n",
              "    </tr>\n",
              "    <tr>\n",
              "      <th>4</th>\n",
              "      <td>2020</td>\n",
              "      <td>5</td>\n",
              "      <td>41</td>\n",
              "      <td>여자</td>\n",
              "      <td>12</td>\n",
              "      <td>155</td>\n",
              "      <td>50</td>\n",
              "      <td>75.2</td>\n",
              "      <td>1.5</td>\n",
              "      <td>1.2</td>\n",
              "      <td>...</td>\n",
              "      <td>0.7</td>\n",
              "      <td>18.0</td>\n",
              "      <td>17.0</td>\n",
              "      <td>14.0</td>\n",
              "      <td>No</td>\n",
              "      <td>No</td>\n",
              "      <td>0</td>\n",
              "      <td>NaN</td>\n",
              "      <td>NaN</td>\n",
              "      <td>12/29/2021</td>\n",
              "    </tr>\n",
              "  </tbody>\n",
              "</table>\n",
              "<p>5 rows × 31 columns</p>\n",
              "</div>\n",
              "      <button class=\"colab-df-convert\" onclick=\"convertToInteractive('df-9fa2b7fd-5e45-4932-94f6-e4e597a23af6')\"\n",
              "              title=\"Convert this dataframe to an interactive table.\"\n",
              "              style=\"display:none;\">\n",
              "        \n",
              "  <svg xmlns=\"http://www.w3.org/2000/svg\" height=\"24px\"viewBox=\"0 0 24 24\"\n",
              "       width=\"24px\">\n",
              "    <path d=\"M0 0h24v24H0V0z\" fill=\"none\"/>\n",
              "    <path d=\"M18.56 5.44l.94 2.06.94-2.06 2.06-.94-2.06-.94-.94-2.06-.94 2.06-2.06.94zm-11 1L8.5 8.5l.94-2.06 2.06-.94-2.06-.94L8.5 2.5l-.94 2.06-2.06.94zm10 10l.94 2.06.94-2.06 2.06-.94-2.06-.94-.94-2.06-.94 2.06-2.06.94z\"/><path d=\"M17.41 7.96l-1.37-1.37c-.4-.4-.92-.59-1.43-.59-.52 0-1.04.2-1.43.59L10.3 9.45l-7.72 7.72c-.78.78-.78 2.05 0 2.83L4 21.41c.39.39.9.59 1.41.59.51 0 1.02-.2 1.41-.59l7.78-7.78 2.81-2.81c.8-.78.8-2.07 0-2.86zM5.41 20L4 18.59l7.72-7.72 1.47 1.35L5.41 20z\"/>\n",
              "  </svg>\n",
              "      </button>\n",
              "      \n",
              "  <style>\n",
              "    .colab-df-container {\n",
              "      display:flex;\n",
              "      flex-wrap:wrap;\n",
              "      gap: 12px;\n",
              "    }\n",
              "\n",
              "    .colab-df-convert {\n",
              "      background-color: #E8F0FE;\n",
              "      border: none;\n",
              "      border-radius: 50%;\n",
              "      cursor: pointer;\n",
              "      display: none;\n",
              "      fill: #1967D2;\n",
              "      height: 32px;\n",
              "      padding: 0 0 0 0;\n",
              "      width: 32px;\n",
              "    }\n",
              "\n",
              "    .colab-df-convert:hover {\n",
              "      background-color: #E2EBFA;\n",
              "      box-shadow: 0px 1px 2px rgba(60, 64, 67, 0.3), 0px 1px 3px 1px rgba(60, 64, 67, 0.15);\n",
              "      fill: #174EA6;\n",
              "    }\n",
              "\n",
              "    [theme=dark] .colab-df-convert {\n",
              "      background-color: #3B4455;\n",
              "      fill: #D2E3FC;\n",
              "    }\n",
              "\n",
              "    [theme=dark] .colab-df-convert:hover {\n",
              "      background-color: #434B5C;\n",
              "      box-shadow: 0px 1px 3px 1px rgba(0, 0, 0, 0.15);\n",
              "      filter: drop-shadow(0px 1px 2px rgba(0, 0, 0, 0.3));\n",
              "      fill: #FFFFFF;\n",
              "    }\n",
              "  </style>\n",
              "\n",
              "      <script>\n",
              "        const buttonEl =\n",
              "          document.querySelector('#df-9fa2b7fd-5e45-4932-94f6-e4e597a23af6 button.colab-df-convert');\n",
              "        buttonEl.style.display =\n",
              "          google.colab.kernel.accessAllowed ? 'block' : 'none';\n",
              "\n",
              "        async function convertToInteractive(key) {\n",
              "          const element = document.querySelector('#df-9fa2b7fd-5e45-4932-94f6-e4e597a23af6');\n",
              "          const dataTable =\n",
              "            await google.colab.kernel.invokeFunction('convertToInteractive',\n",
              "                                                     [key], {});\n",
              "          if (!dataTable) return;\n",
              "\n",
              "          const docLinkHtml = 'Like what you see? Visit the ' +\n",
              "            '<a target=\"_blank\" href=https://colab.research.google.com/notebooks/data_table.ipynb>data table notebook</a>'\n",
              "            + ' to learn more about interactive tables.';\n",
              "          element.innerHTML = '';\n",
              "          dataTable['output_type'] = 'display_data';\n",
              "          await google.colab.output.renderOutput(dataTable, element);\n",
              "          const docLink = document.createElement('div');\n",
              "          docLink.innerHTML = docLinkHtml;\n",
              "          element.appendChild(docLink);\n",
              "        }\n",
              "      </script>\n",
              "    </div>\n",
              "  </div>\n",
              "  "
            ]
          },
          "metadata": {},
          "execution_count": 6
        }
      ]
    },
    {
      "cell_type": "code",
      "source": [
        "# '치석', '치아우식증유무', 'LDL콜레스테롤', '총콜레스테롤', '트리글리세라이드', 'HDL콜레스테롤' 은 결측치가 절반(5000) 이상이므로 변수 제거\n",
        "\n",
        "hd2 = hd.drop(columns=['치석', '치아우식증유무', 'LDL콜레스테롤', '총콜레스테롤', '트리글리세라이드', 'HDL콜레스테롤'], axis=1)\n",
        "print(hd2.columns)"
      ],
      "metadata": {
        "colab": {
          "base_uri": "https://localhost:8080/"
        },
        "id": "bcQZVOgUZSmB",
        "outputId": "10d3242c-629c-40d3-922a-1e6afa76ad0f"
      },
      "execution_count": 7,
      "outputs": [
        {
          "output_type": "stream",
          "name": "stdout",
          "text": [
            "Index(['기준년도', '가입자일련번호', '시도코드', '성별', '연령대코드(5세단위)', '신장(5Cm단위)',\n",
            "       '체중(5Kg 단위)', '허리둘레', '시력(좌)', '시력(우)', '청력(좌)', '청력(우)', '수축기혈압',\n",
            "       '이완기혈압', '식전혈당(공복혈당)', '혈색소', '요단백', '혈청크레아티닌', '(혈청지오티)AST',\n",
            "       '(혈청지오티)ALT', '감마지티피', '흡연상태', '음주여부', '구강검진수검여부', '데이터공개일자'],\n",
            "      dtype='object')\n"
          ]
        }
      ]
    },
    {
      "cell_type": "code",
      "source": [
        "# 흡연상태(문자열), 음주여부(문자열)의 경우 결측치가 존재하는 행을 삭제\n",
        "hd2 = hd2.dropna(subset = ['흡연상태'], axis=0)\n",
        "print(hd2.shape)"
      ],
      "metadata": {
        "colab": {
          "base_uri": "https://localhost:8080/"
        },
        "id": "-BxWnwalHJen",
        "outputId": "facd1478-a58b-4c24-fd0c-857d9a0f5d08"
      },
      "execution_count": 8,
      "outputs": [
        {
          "output_type": "stream",
          "name": "stdout",
          "text": [
            "(9998, 25)\n"
          ]
        }
      ]
    },
    {
      "cell_type": "code",
      "source": [
        "hd2 = hd2.dropna(subset = ['음주여부'], axis=0)\n",
        "print(hd2.shape)"
      ],
      "metadata": {
        "colab": {
          "base_uri": "https://localhost:8080/"
        },
        "id": "gIL6FOTDw2Cw",
        "outputId": "88bc8249-9e0b-4842-fd37-2f1d640c552f"
      },
      "execution_count": 9,
      "outputs": [
        {
          "output_type": "stream",
          "name": "stdout",
          "text": [
            "(9997, 25)\n"
          ]
        }
      ]
    },
    {
      "cell_type": "code",
      "source": [
        "# 요단백(정수형)의 경우 가장 빈도가 큰 1로 보간\n",
        "hd2.groupby('요단백').count() # 최빈값이 1임을 알 수 있음"
      ],
      "metadata": {
        "colab": {
          "base_uri": "https://localhost:8080/",
          "height": 377
        },
        "id": "CwDpRDtEklUs",
        "outputId": "dfe74aaa-092e-43a5-9cf8-e16b7d5bb2c1"
      },
      "execution_count": 10,
      "outputs": [
        {
          "output_type": "execute_result",
          "data": {
            "text/plain": [
              "     기준년도  가입자일련번호  시도코드    성별  연령대코드(5세단위)  신장(5Cm단위)  체중(5Kg 단위)  허리둘레  \\\n",
              "요단백                                                                        \n",
              "1.0  9151     9151  9151  9151         9151       9151        9151  9151   \n",
              "2.0   385      385   385   385          385        385         385   385   \n",
              "3.0   210      210   210   210          210        210         210   210   \n",
              "4.0    82       82    82    82           82         82          82    82   \n",
              "5.0    23       23    23    23           23         23          23    23   \n",
              "6.0     7        7     7     7            7          7           7     7   \n",
              "\n",
              "     시력(좌)  시력(우)  ...  식전혈당(공복혈당)   혈색소  혈청크레아티닌  (혈청지오티)AST  (혈청지오티)ALT  \\\n",
              "요단백                ...                                                      \n",
              "1.0   9151   9151  ...        9151  9151     9151        9151        9151   \n",
              "2.0    385    385  ...         385   385      385         385         385   \n",
              "3.0    210    210  ...         210   210      210         210         210   \n",
              "4.0     82     82  ...          82    82       82          82          82   \n",
              "5.0     23     23  ...          23    23       23          23          23   \n",
              "6.0      7      7  ...           7     7        7           7           7   \n",
              "\n",
              "     감마지티피  흡연상태  음주여부  구강검진수검여부  데이터공개일자  \n",
              "요단백                                        \n",
              "1.0   9151  9151  9151      9151     9151  \n",
              "2.0    385   385   385       385      385  \n",
              "3.0    210   210   210       210      210  \n",
              "4.0     82    82    82        82       82  \n",
              "5.0     23    23    23        23       23  \n",
              "6.0      7     7     7         7        7  \n",
              "\n",
              "[6 rows x 24 columns]"
            ],
            "text/html": [
              "\n",
              "  <div id=\"df-fac52ec1-053e-465e-a7b9-9ebee9f5385f\">\n",
              "    <div class=\"colab-df-container\">\n",
              "      <div>\n",
              "<style scoped>\n",
              "    .dataframe tbody tr th:only-of-type {\n",
              "        vertical-align: middle;\n",
              "    }\n",
              "\n",
              "    .dataframe tbody tr th {\n",
              "        vertical-align: top;\n",
              "    }\n",
              "\n",
              "    .dataframe thead th {\n",
              "        text-align: right;\n",
              "    }\n",
              "</style>\n",
              "<table border=\"1\" class=\"dataframe\">\n",
              "  <thead>\n",
              "    <tr style=\"text-align: right;\">\n",
              "      <th></th>\n",
              "      <th>기준년도</th>\n",
              "      <th>가입자일련번호</th>\n",
              "      <th>시도코드</th>\n",
              "      <th>성별</th>\n",
              "      <th>연령대코드(5세단위)</th>\n",
              "      <th>신장(5Cm단위)</th>\n",
              "      <th>체중(5Kg 단위)</th>\n",
              "      <th>허리둘레</th>\n",
              "      <th>시력(좌)</th>\n",
              "      <th>시력(우)</th>\n",
              "      <th>...</th>\n",
              "      <th>식전혈당(공복혈당)</th>\n",
              "      <th>혈색소</th>\n",
              "      <th>혈청크레아티닌</th>\n",
              "      <th>(혈청지오티)AST</th>\n",
              "      <th>(혈청지오티)ALT</th>\n",
              "      <th>감마지티피</th>\n",
              "      <th>흡연상태</th>\n",
              "      <th>음주여부</th>\n",
              "      <th>구강검진수검여부</th>\n",
              "      <th>데이터공개일자</th>\n",
              "    </tr>\n",
              "    <tr>\n",
              "      <th>요단백</th>\n",
              "      <th></th>\n",
              "      <th></th>\n",
              "      <th></th>\n",
              "      <th></th>\n",
              "      <th></th>\n",
              "      <th></th>\n",
              "      <th></th>\n",
              "      <th></th>\n",
              "      <th></th>\n",
              "      <th></th>\n",
              "      <th></th>\n",
              "      <th></th>\n",
              "      <th></th>\n",
              "      <th></th>\n",
              "      <th></th>\n",
              "      <th></th>\n",
              "      <th></th>\n",
              "      <th></th>\n",
              "      <th></th>\n",
              "      <th></th>\n",
              "      <th></th>\n",
              "    </tr>\n",
              "  </thead>\n",
              "  <tbody>\n",
              "    <tr>\n",
              "      <th>1.0</th>\n",
              "      <td>9151</td>\n",
              "      <td>9151</td>\n",
              "      <td>9151</td>\n",
              "      <td>9151</td>\n",
              "      <td>9151</td>\n",
              "      <td>9151</td>\n",
              "      <td>9151</td>\n",
              "      <td>9151</td>\n",
              "      <td>9151</td>\n",
              "      <td>9151</td>\n",
              "      <td>...</td>\n",
              "      <td>9151</td>\n",
              "      <td>9151</td>\n",
              "      <td>9151</td>\n",
              "      <td>9151</td>\n",
              "      <td>9151</td>\n",
              "      <td>9151</td>\n",
              "      <td>9151</td>\n",
              "      <td>9151</td>\n",
              "      <td>9151</td>\n",
              "      <td>9151</td>\n",
              "    </tr>\n",
              "    <tr>\n",
              "      <th>2.0</th>\n",
              "      <td>385</td>\n",
              "      <td>385</td>\n",
              "      <td>385</td>\n",
              "      <td>385</td>\n",
              "      <td>385</td>\n",
              "      <td>385</td>\n",
              "      <td>385</td>\n",
              "      <td>385</td>\n",
              "      <td>385</td>\n",
              "      <td>385</td>\n",
              "      <td>...</td>\n",
              "      <td>385</td>\n",
              "      <td>385</td>\n",
              "      <td>385</td>\n",
              "      <td>385</td>\n",
              "      <td>385</td>\n",
              "      <td>385</td>\n",
              "      <td>385</td>\n",
              "      <td>385</td>\n",
              "      <td>385</td>\n",
              "      <td>385</td>\n",
              "    </tr>\n",
              "    <tr>\n",
              "      <th>3.0</th>\n",
              "      <td>210</td>\n",
              "      <td>210</td>\n",
              "      <td>210</td>\n",
              "      <td>210</td>\n",
              "      <td>210</td>\n",
              "      <td>210</td>\n",
              "      <td>210</td>\n",
              "      <td>210</td>\n",
              "      <td>210</td>\n",
              "      <td>210</td>\n",
              "      <td>...</td>\n",
              "      <td>210</td>\n",
              "      <td>210</td>\n",
              "      <td>210</td>\n",
              "      <td>210</td>\n",
              "      <td>210</td>\n",
              "      <td>210</td>\n",
              "      <td>210</td>\n",
              "      <td>210</td>\n",
              "      <td>210</td>\n",
              "      <td>210</td>\n",
              "    </tr>\n",
              "    <tr>\n",
              "      <th>4.0</th>\n",
              "      <td>82</td>\n",
              "      <td>82</td>\n",
              "      <td>82</td>\n",
              "      <td>82</td>\n",
              "      <td>82</td>\n",
              "      <td>82</td>\n",
              "      <td>82</td>\n",
              "      <td>82</td>\n",
              "      <td>82</td>\n",
              "      <td>82</td>\n",
              "      <td>...</td>\n",
              "      <td>82</td>\n",
              "      <td>82</td>\n",
              "      <td>82</td>\n",
              "      <td>82</td>\n",
              "      <td>82</td>\n",
              "      <td>82</td>\n",
              "      <td>82</td>\n",
              "      <td>82</td>\n",
              "      <td>82</td>\n",
              "      <td>82</td>\n",
              "    </tr>\n",
              "    <tr>\n",
              "      <th>5.0</th>\n",
              "      <td>23</td>\n",
              "      <td>23</td>\n",
              "      <td>23</td>\n",
              "      <td>23</td>\n",
              "      <td>23</td>\n",
              "      <td>23</td>\n",
              "      <td>23</td>\n",
              "      <td>23</td>\n",
              "      <td>23</td>\n",
              "      <td>23</td>\n",
              "      <td>...</td>\n",
              "      <td>23</td>\n",
              "      <td>23</td>\n",
              "      <td>23</td>\n",
              "      <td>23</td>\n",
              "      <td>23</td>\n",
              "      <td>23</td>\n",
              "      <td>23</td>\n",
              "      <td>23</td>\n",
              "      <td>23</td>\n",
              "      <td>23</td>\n",
              "    </tr>\n",
              "    <tr>\n",
              "      <th>6.0</th>\n",
              "      <td>7</td>\n",
              "      <td>7</td>\n",
              "      <td>7</td>\n",
              "      <td>7</td>\n",
              "      <td>7</td>\n",
              "      <td>7</td>\n",
              "      <td>7</td>\n",
              "      <td>7</td>\n",
              "      <td>7</td>\n",
              "      <td>7</td>\n",
              "      <td>...</td>\n",
              "      <td>7</td>\n",
              "      <td>7</td>\n",
              "      <td>7</td>\n",
              "      <td>7</td>\n",
              "      <td>7</td>\n",
              "      <td>7</td>\n",
              "      <td>7</td>\n",
              "      <td>7</td>\n",
              "      <td>7</td>\n",
              "      <td>7</td>\n",
              "    </tr>\n",
              "  </tbody>\n",
              "</table>\n",
              "<p>6 rows × 24 columns</p>\n",
              "</div>\n",
              "      <button class=\"colab-df-convert\" onclick=\"convertToInteractive('df-fac52ec1-053e-465e-a7b9-9ebee9f5385f')\"\n",
              "              title=\"Convert this dataframe to an interactive table.\"\n",
              "              style=\"display:none;\">\n",
              "        \n",
              "  <svg xmlns=\"http://www.w3.org/2000/svg\" height=\"24px\"viewBox=\"0 0 24 24\"\n",
              "       width=\"24px\">\n",
              "    <path d=\"M0 0h24v24H0V0z\" fill=\"none\"/>\n",
              "    <path d=\"M18.56 5.44l.94 2.06.94-2.06 2.06-.94-2.06-.94-.94-2.06-.94 2.06-2.06.94zm-11 1L8.5 8.5l.94-2.06 2.06-.94-2.06-.94L8.5 2.5l-.94 2.06-2.06.94zm10 10l.94 2.06.94-2.06 2.06-.94-2.06-.94-.94-2.06-.94 2.06-2.06.94z\"/><path d=\"M17.41 7.96l-1.37-1.37c-.4-.4-.92-.59-1.43-.59-.52 0-1.04.2-1.43.59L10.3 9.45l-7.72 7.72c-.78.78-.78 2.05 0 2.83L4 21.41c.39.39.9.59 1.41.59.51 0 1.02-.2 1.41-.59l7.78-7.78 2.81-2.81c.8-.78.8-2.07 0-2.86zM5.41 20L4 18.59l7.72-7.72 1.47 1.35L5.41 20z\"/>\n",
              "  </svg>\n",
              "      </button>\n",
              "      \n",
              "  <style>\n",
              "    .colab-df-container {\n",
              "      display:flex;\n",
              "      flex-wrap:wrap;\n",
              "      gap: 12px;\n",
              "    }\n",
              "\n",
              "    .colab-df-convert {\n",
              "      background-color: #E8F0FE;\n",
              "      border: none;\n",
              "      border-radius: 50%;\n",
              "      cursor: pointer;\n",
              "      display: none;\n",
              "      fill: #1967D2;\n",
              "      height: 32px;\n",
              "      padding: 0 0 0 0;\n",
              "      width: 32px;\n",
              "    }\n",
              "\n",
              "    .colab-df-convert:hover {\n",
              "      background-color: #E2EBFA;\n",
              "      box-shadow: 0px 1px 2px rgba(60, 64, 67, 0.3), 0px 1px 3px 1px rgba(60, 64, 67, 0.15);\n",
              "      fill: #174EA6;\n",
              "    }\n",
              "\n",
              "    [theme=dark] .colab-df-convert {\n",
              "      background-color: #3B4455;\n",
              "      fill: #D2E3FC;\n",
              "    }\n",
              "\n",
              "    [theme=dark] .colab-df-convert:hover {\n",
              "      background-color: #434B5C;\n",
              "      box-shadow: 0px 1px 3px 1px rgba(0, 0, 0, 0.15);\n",
              "      filter: drop-shadow(0px 1px 2px rgba(0, 0, 0, 0.3));\n",
              "      fill: #FFFFFF;\n",
              "    }\n",
              "  </style>\n",
              "\n",
              "      <script>\n",
              "        const buttonEl =\n",
              "          document.querySelector('#df-fac52ec1-053e-465e-a7b9-9ebee9f5385f button.colab-df-convert');\n",
              "        buttonEl.style.display =\n",
              "          google.colab.kernel.accessAllowed ? 'block' : 'none';\n",
              "\n",
              "        async function convertToInteractive(key) {\n",
              "          const element = document.querySelector('#df-fac52ec1-053e-465e-a7b9-9ebee9f5385f');\n",
              "          const dataTable =\n",
              "            await google.colab.kernel.invokeFunction('convertToInteractive',\n",
              "                                                     [key], {});\n",
              "          if (!dataTable) return;\n",
              "\n",
              "          const docLinkHtml = 'Like what you see? Visit the ' +\n",
              "            '<a target=\"_blank\" href=https://colab.research.google.com/notebooks/data_table.ipynb>data table notebook</a>'\n",
              "            + ' to learn more about interactive tables.';\n",
              "          element.innerHTML = '';\n",
              "          dataTable['output_type'] = 'display_data';\n",
              "          await google.colab.output.renderOutput(dataTable, element);\n",
              "          const docLink = document.createElement('div');\n",
              "          docLink.innerHTML = docLinkHtml;\n",
              "          element.appendChild(docLink);\n",
              "        }\n",
              "      </script>\n",
              "    </div>\n",
              "  </div>\n",
              "  "
            ]
          },
          "metadata": {},
          "execution_count": 10
        }
      ]
    },
    {
      "cell_type": "code",
      "source": [
        "hd2['요단백'].fillna(1, inplace=True)\n",
        "print(hd2.isnull().sum())"
      ],
      "metadata": {
        "colab": {
          "base_uri": "https://localhost:8080/"
        },
        "id": "yRA3p2pEyftQ",
        "outputId": "0dcfea5e-0771-4270-8556-cccb494484ca"
      },
      "execution_count": 11,
      "outputs": [
        {
          "output_type": "stream",
          "name": "stdout",
          "text": [
            "기준년도            0\n",
            "가입자일련번호         0\n",
            "시도코드            0\n",
            "성별              0\n",
            "연령대코드(5세단위)     0\n",
            "신장(5Cm단위)       0\n",
            "체중(5Kg 단위)      0\n",
            "허리둘레            0\n",
            "시력(좌)           0\n",
            "시력(우)           0\n",
            "청력(좌)           0\n",
            "청력(우)           0\n",
            "수축기혈압          88\n",
            "이완기혈압          88\n",
            "식전혈당(공복혈당)     88\n",
            "혈색소            88\n",
            "요단백             0\n",
            "혈청크레아티닌        88\n",
            "(혈청지오티)AST     88\n",
            "(혈청지오티)ALT     88\n",
            "감마지티피          88\n",
            "흡연상태            0\n",
            "음주여부            0\n",
            "구강검진수검여부        0\n",
            "데이터공개일자         0\n",
            "dtype: int64\n"
          ]
        }
      ]
    },
    {
      "cell_type": "code",
      "source": [
        "# 수축기혈압,이완기혈압,식전혈당, 혈청크레아티닌, AST, ALT, 혈색소는 평균을 사용해 대체\n",
        "hd2[['수축기혈압','이완기혈압','식전혈당(공복혈당)','혈청크레아티닌','(혈청지오티)AST','(혈청지오티)ALT','혈색소']].describe()"
      ],
      "metadata": {
        "colab": {
          "base_uri": "https://localhost:8080/",
          "height": 300
        },
        "id": "UF8qCIlL0HuW",
        "outputId": "9364dc10-c0ed-4ca7-c6ba-f6d064077eed"
      },
      "execution_count": 12,
      "outputs": [
        {
          "output_type": "execute_result",
          "data": {
            "text/plain": [
              "             수축기혈압        이완기혈압   식전혈당(공복혈당)      혈청크레아티닌   (혈청지오티)AST  \\\n",
              "count  9909.000000  9909.000000  9909.000000  9909.000000  9909.000000   \n",
              "mean    124.668887    76.789182   103.781411     0.848519    27.592391   \n",
              "std      14.630859     9.932638    24.652491     0.301043    17.886413   \n",
              "min      77.000000    40.000000    55.000000     0.050000     3.000000   \n",
              "25%     115.000000    70.000000    91.000000     0.700000    20.000000   \n",
              "50%     124.000000    77.000000    99.000000     0.800000    24.000000   \n",
              "75%     134.000000    83.000000   109.000000     1.000000    30.000000   \n",
              "max     200.000000   130.000000   473.000000     9.200000   692.000000   \n",
              "\n",
              "        (혈청지오티)ALT          혈색소  \n",
              "count  9909.000000  9909.000000  \n",
              "mean     26.793218    14.214663  \n",
              "std      23.738404     1.555266  \n",
              "min       2.000000     5.100000  \n",
              "25%      16.000000    13.200000  \n",
              "50%      21.000000    14.200000  \n",
              "75%      31.000000    15.300000  \n",
              "max    1146.000000    20.000000  "
            ],
            "text/html": [
              "\n",
              "  <div id=\"df-95744377-2e2d-43f9-b231-422d41748908\">\n",
              "    <div class=\"colab-df-container\">\n",
              "      <div>\n",
              "<style scoped>\n",
              "    .dataframe tbody tr th:only-of-type {\n",
              "        vertical-align: middle;\n",
              "    }\n",
              "\n",
              "    .dataframe tbody tr th {\n",
              "        vertical-align: top;\n",
              "    }\n",
              "\n",
              "    .dataframe thead th {\n",
              "        text-align: right;\n",
              "    }\n",
              "</style>\n",
              "<table border=\"1\" class=\"dataframe\">\n",
              "  <thead>\n",
              "    <tr style=\"text-align: right;\">\n",
              "      <th></th>\n",
              "      <th>수축기혈압</th>\n",
              "      <th>이완기혈압</th>\n",
              "      <th>식전혈당(공복혈당)</th>\n",
              "      <th>혈청크레아티닌</th>\n",
              "      <th>(혈청지오티)AST</th>\n",
              "      <th>(혈청지오티)ALT</th>\n",
              "      <th>혈색소</th>\n",
              "    </tr>\n",
              "  </thead>\n",
              "  <tbody>\n",
              "    <tr>\n",
              "      <th>count</th>\n",
              "      <td>9909.000000</td>\n",
              "      <td>9909.000000</td>\n",
              "      <td>9909.000000</td>\n",
              "      <td>9909.000000</td>\n",
              "      <td>9909.000000</td>\n",
              "      <td>9909.000000</td>\n",
              "      <td>9909.000000</td>\n",
              "    </tr>\n",
              "    <tr>\n",
              "      <th>mean</th>\n",
              "      <td>124.668887</td>\n",
              "      <td>76.789182</td>\n",
              "      <td>103.781411</td>\n",
              "      <td>0.848519</td>\n",
              "      <td>27.592391</td>\n",
              "      <td>26.793218</td>\n",
              "      <td>14.214663</td>\n",
              "    </tr>\n",
              "    <tr>\n",
              "      <th>std</th>\n",
              "      <td>14.630859</td>\n",
              "      <td>9.932638</td>\n",
              "      <td>24.652491</td>\n",
              "      <td>0.301043</td>\n",
              "      <td>17.886413</td>\n",
              "      <td>23.738404</td>\n",
              "      <td>1.555266</td>\n",
              "    </tr>\n",
              "    <tr>\n",
              "      <th>min</th>\n",
              "      <td>77.000000</td>\n",
              "      <td>40.000000</td>\n",
              "      <td>55.000000</td>\n",
              "      <td>0.050000</td>\n",
              "      <td>3.000000</td>\n",
              "      <td>2.000000</td>\n",
              "      <td>5.100000</td>\n",
              "    </tr>\n",
              "    <tr>\n",
              "      <th>25%</th>\n",
              "      <td>115.000000</td>\n",
              "      <td>70.000000</td>\n",
              "      <td>91.000000</td>\n",
              "      <td>0.700000</td>\n",
              "      <td>20.000000</td>\n",
              "      <td>16.000000</td>\n",
              "      <td>13.200000</td>\n",
              "    </tr>\n",
              "    <tr>\n",
              "      <th>50%</th>\n",
              "      <td>124.000000</td>\n",
              "      <td>77.000000</td>\n",
              "      <td>99.000000</td>\n",
              "      <td>0.800000</td>\n",
              "      <td>24.000000</td>\n",
              "      <td>21.000000</td>\n",
              "      <td>14.200000</td>\n",
              "    </tr>\n",
              "    <tr>\n",
              "      <th>75%</th>\n",
              "      <td>134.000000</td>\n",
              "      <td>83.000000</td>\n",
              "      <td>109.000000</td>\n",
              "      <td>1.000000</td>\n",
              "      <td>30.000000</td>\n",
              "      <td>31.000000</td>\n",
              "      <td>15.300000</td>\n",
              "    </tr>\n",
              "    <tr>\n",
              "      <th>max</th>\n",
              "      <td>200.000000</td>\n",
              "      <td>130.000000</td>\n",
              "      <td>473.000000</td>\n",
              "      <td>9.200000</td>\n",
              "      <td>692.000000</td>\n",
              "      <td>1146.000000</td>\n",
              "      <td>20.000000</td>\n",
              "    </tr>\n",
              "  </tbody>\n",
              "</table>\n",
              "</div>\n",
              "      <button class=\"colab-df-convert\" onclick=\"convertToInteractive('df-95744377-2e2d-43f9-b231-422d41748908')\"\n",
              "              title=\"Convert this dataframe to an interactive table.\"\n",
              "              style=\"display:none;\">\n",
              "        \n",
              "  <svg xmlns=\"http://www.w3.org/2000/svg\" height=\"24px\"viewBox=\"0 0 24 24\"\n",
              "       width=\"24px\">\n",
              "    <path d=\"M0 0h24v24H0V0z\" fill=\"none\"/>\n",
              "    <path d=\"M18.56 5.44l.94 2.06.94-2.06 2.06-.94-2.06-.94-.94-2.06-.94 2.06-2.06.94zm-11 1L8.5 8.5l.94-2.06 2.06-.94-2.06-.94L8.5 2.5l-.94 2.06-2.06.94zm10 10l.94 2.06.94-2.06 2.06-.94-2.06-.94-.94-2.06-.94 2.06-2.06.94z\"/><path d=\"M17.41 7.96l-1.37-1.37c-.4-.4-.92-.59-1.43-.59-.52 0-1.04.2-1.43.59L10.3 9.45l-7.72 7.72c-.78.78-.78 2.05 0 2.83L4 21.41c.39.39.9.59 1.41.59.51 0 1.02-.2 1.41-.59l7.78-7.78 2.81-2.81c.8-.78.8-2.07 0-2.86zM5.41 20L4 18.59l7.72-7.72 1.47 1.35L5.41 20z\"/>\n",
              "  </svg>\n",
              "      </button>\n",
              "      \n",
              "  <style>\n",
              "    .colab-df-container {\n",
              "      display:flex;\n",
              "      flex-wrap:wrap;\n",
              "      gap: 12px;\n",
              "    }\n",
              "\n",
              "    .colab-df-convert {\n",
              "      background-color: #E8F0FE;\n",
              "      border: none;\n",
              "      border-radius: 50%;\n",
              "      cursor: pointer;\n",
              "      display: none;\n",
              "      fill: #1967D2;\n",
              "      height: 32px;\n",
              "      padding: 0 0 0 0;\n",
              "      width: 32px;\n",
              "    }\n",
              "\n",
              "    .colab-df-convert:hover {\n",
              "      background-color: #E2EBFA;\n",
              "      box-shadow: 0px 1px 2px rgba(60, 64, 67, 0.3), 0px 1px 3px 1px rgba(60, 64, 67, 0.15);\n",
              "      fill: #174EA6;\n",
              "    }\n",
              "\n",
              "    [theme=dark] .colab-df-convert {\n",
              "      background-color: #3B4455;\n",
              "      fill: #D2E3FC;\n",
              "    }\n",
              "\n",
              "    [theme=dark] .colab-df-convert:hover {\n",
              "      background-color: #434B5C;\n",
              "      box-shadow: 0px 1px 3px 1px rgba(0, 0, 0, 0.15);\n",
              "      filter: drop-shadow(0px 1px 2px rgba(0, 0, 0, 0.3));\n",
              "      fill: #FFFFFF;\n",
              "    }\n",
              "  </style>\n",
              "\n",
              "      <script>\n",
              "        const buttonEl =\n",
              "          document.querySelector('#df-95744377-2e2d-43f9-b231-422d41748908 button.colab-df-convert');\n",
              "        buttonEl.style.display =\n",
              "          google.colab.kernel.accessAllowed ? 'block' : 'none';\n",
              "\n",
              "        async function convertToInteractive(key) {\n",
              "          const element = document.querySelector('#df-95744377-2e2d-43f9-b231-422d41748908');\n",
              "          const dataTable =\n",
              "            await google.colab.kernel.invokeFunction('convertToInteractive',\n",
              "                                                     [key], {});\n",
              "          if (!dataTable) return;\n",
              "\n",
              "          const docLinkHtml = 'Like what you see? Visit the ' +\n",
              "            '<a target=\"_blank\" href=https://colab.research.google.com/notebooks/data_table.ipynb>data table notebook</a>'\n",
              "            + ' to learn more about interactive tables.';\n",
              "          element.innerHTML = '';\n",
              "          dataTable['output_type'] = 'display_data';\n",
              "          await google.colab.output.renderOutput(dataTable, element);\n",
              "          const docLink = document.createElement('div');\n",
              "          docLink.innerHTML = docLinkHtml;\n",
              "          element.appendChild(docLink);\n",
              "        }\n",
              "      </script>\n",
              "    </div>\n",
              "  </div>\n",
              "  "
            ]
          },
          "metadata": {},
          "execution_count": 12
        }
      ]
    },
    {
      "cell_type": "code",
      "source": [
        "hd2['수축기혈압'].fillna(124.668887,inplace=True)\n",
        "hd2['이완기혈압'].fillna(76.789182,inplace=True)\n",
        "hd2['식전혈당(공복혈당)'].fillna(103.781411,inplace=True)\n",
        "hd2['혈청크레아티닌'].fillna(0.848519,inplace=True)\n",
        "hd2['(혈청지오티)AST'].fillna(27.592391,inplace=True)\n",
        "hd2['(혈청지오티)ALT'].fillna(26.793218,inplace=True)\n",
        "hd2['혈색소'].fillna(14.214663,inplace=True)\n",
        "\n",
        "print(hd2.isnull().sum())"
      ],
      "metadata": {
        "colab": {
          "base_uri": "https://localhost:8080/"
        },
        "id": "zjWayk-m2fG1",
        "outputId": "d4fd1c88-d42c-4d80-df32-e58449826fa8"
      },
      "execution_count": 13,
      "outputs": [
        {
          "output_type": "stream",
          "name": "stdout",
          "text": [
            "기준년도            0\n",
            "가입자일련번호         0\n",
            "시도코드            0\n",
            "성별              0\n",
            "연령대코드(5세단위)     0\n",
            "신장(5Cm단위)       0\n",
            "체중(5Kg 단위)      0\n",
            "허리둘레            0\n",
            "시력(좌)           0\n",
            "시력(우)           0\n",
            "청력(좌)           0\n",
            "청력(우)           0\n",
            "수축기혈압           0\n",
            "이완기혈압           0\n",
            "식전혈당(공복혈당)      0\n",
            "혈색소             0\n",
            "요단백             0\n",
            "혈청크레아티닌         0\n",
            "(혈청지오티)AST      0\n",
            "(혈청지오티)ALT      0\n",
            "감마지티피          88\n",
            "흡연상태            0\n",
            "음주여부            0\n",
            "구강검진수검여부        0\n",
            "데이터공개일자         0\n",
            "dtype: int64\n"
          ]
        }
      ]
    },
    {
      "cell_type": "code",
      "source": [
        "# 감마지티피는 성별에 따라 정상치 기준이 다르므로 남성 결측치는 남성 평균, 여성 결측치는 여성 평균으로 대체\n",
        "hd2.groupby('성별')['감마지티피'].mean()"
      ],
      "metadata": {
        "id": "ZaRqKF9jWTFr",
        "colab": {
          "base_uri": "https://localhost:8080/"
        },
        "outputId": "c00b8cf2-32a0-442c-c6f9-0bf25119eeaf"
      },
      "execution_count": 14,
      "outputs": [
        {
          "output_type": "execute_result",
          "data": {
            "text/plain": [
              "성별\n",
              "남자    50.233196\n",
              "여자    25.226800\n",
              "Name: 감마지티피, dtype: float64"
            ]
          },
          "metadata": {},
          "execution_count": 14
        }
      ]
    },
    {
      "cell_type": "code",
      "source": [
        "hd2['감마지티피'].fillna(0,inplace=True) # 결측치를 0으로 채워주기"
      ],
      "metadata": {
        "id": "8iqZjd0EWbD-"
      },
      "execution_count": 15,
      "outputs": []
    },
    {
      "cell_type": "code",
      "source": [
        "hd2.loc[(hd['성별']=='여자')&(hd2['감마지티피']==0),'감마지티피']=25.226800\n",
        "hd2.loc[(hd['성별']=='남자')&(hd2['감마지티피']==0),'감마지티피']=50.233196"
      ],
      "metadata": {
        "id": "zBsJHJmvWfRJ"
      },
      "execution_count": 16,
      "outputs": []
    },
    {
      "cell_type": "code",
      "source": [
        "hd2.isnull().sum() #결측치 처리 완료"
      ],
      "metadata": {
        "colab": {
          "base_uri": "https://localhost:8080/"
        },
        "id": "_gty4UaLXxMD",
        "outputId": "ace0afaf-9a69-40a9-bf51-63f71b366b94"
      },
      "execution_count": 17,
      "outputs": [
        {
          "output_type": "execute_result",
          "data": {
            "text/plain": [
              "기준년도           0\n",
              "가입자일련번호        0\n",
              "시도코드           0\n",
              "성별             0\n",
              "연령대코드(5세단위)    0\n",
              "신장(5Cm단위)      0\n",
              "체중(5Kg 단위)     0\n",
              "허리둘레           0\n",
              "시력(좌)          0\n",
              "시력(우)          0\n",
              "청력(좌)          0\n",
              "청력(우)          0\n",
              "수축기혈압          0\n",
              "이완기혈압          0\n",
              "식전혈당(공복혈당)     0\n",
              "혈색소            0\n",
              "요단백            0\n",
              "혈청크레아티닌        0\n",
              "(혈청지오티)AST     0\n",
              "(혈청지오티)ALT     0\n",
              "감마지티피          0\n",
              "흡연상태           0\n",
              "음주여부           0\n",
              "구강검진수검여부       0\n",
              "데이터공개일자        0\n",
              "dtype: int64"
            ]
          },
          "metadata": {},
          "execution_count": 17
        }
      ]
    },
    {
      "cell_type": "code",
      "source": [
        "hd2.info()"
      ],
      "metadata": {
        "colab": {
          "base_uri": "https://localhost:8080/"
        },
        "id": "6oAoAXEeS5Wi",
        "outputId": "99fc000d-1ad3-46f6-abf9-27adf9f36262"
      },
      "execution_count": 18,
      "outputs": [
        {
          "output_type": "stream",
          "name": "stdout",
          "text": [
            "<class 'pandas.core.frame.DataFrame'>\n",
            "Int64Index: 9997 entries, 0 to 9999\n",
            "Data columns (total 25 columns):\n",
            " #   Column       Non-Null Count  Dtype  \n",
            "---  ------       --------------  -----  \n",
            " 0   기준년도         9997 non-null   int64  \n",
            " 1   가입자일련번호      9997 non-null   int64  \n",
            " 2   시도코드         9997 non-null   int64  \n",
            " 3   성별           9997 non-null   object \n",
            " 4   연령대코드(5세단위)  9997 non-null   int64  \n",
            " 5   신장(5Cm단위)    9997 non-null   int64  \n",
            " 6   체중(5Kg 단위)   9997 non-null   int64  \n",
            " 7   허리둘레         9997 non-null   float64\n",
            " 8   시력(좌)        9997 non-null   float64\n",
            " 9   시력(우)        9997 non-null   float64\n",
            " 10  청력(좌)        9997 non-null   int64  \n",
            " 11  청력(우)        9997 non-null   int64  \n",
            " 12  수축기혈압        9997 non-null   float64\n",
            " 13  이완기혈압        9997 non-null   float64\n",
            " 14  식전혈당(공복혈당)   9997 non-null   float64\n",
            " 15  혈색소          9997 non-null   float64\n",
            " 16  요단백          9997 non-null   float64\n",
            " 17  혈청크레아티닌      9997 non-null   float64\n",
            " 18  (혈청지오티)AST   9997 non-null   float64\n",
            " 19  (혈청지오티)ALT   9997 non-null   float64\n",
            " 20  감마지티피        9997 non-null   float64\n",
            " 21  흡연상태         9997 non-null   object \n",
            " 22  음주여부         9997 non-null   object \n",
            " 23  구강검진수검여부     9997 non-null   int64  \n",
            " 24  데이터공개일자      9997 non-null   object \n",
            "dtypes: float64(12), int64(9), object(4)\n",
            "memory usage: 2.2+ MB\n"
          ]
        }
      ]
    },
    {
      "cell_type": "markdown",
      "source": [
        "# 3.데이터 시각화"
      ],
      "metadata": {
        "id": "7P_US7fPSuc_"
      }
    },
    {
      "cell_type": "code",
      "source": [
        "%matplotlib inline\n",
        "import pandas as pd\n",
        "import seaborn as sns"
      ],
      "metadata": {
        "id": "97RQzpgqEnEd"
      },
      "execution_count": 19,
      "outputs": []
    },
    {
      "cell_type": "code",
      "source": [
        "import matplotlib as mpl\n",
        "import matplotlib.pyplot as plt"
      ],
      "metadata": {
        "id": "GIlDq1waSv3F"
      },
      "execution_count": 20,
      "outputs": []
    },
    {
      "cell_type": "code",
      "source": [
        "!sudo apt-get install -y fonts-nanum\n",
        "!sudo fc-cache -fv\n",
        "!rm ~/.cache/matplotlib -rf"
      ],
      "metadata": {
        "colab": {
          "base_uri": "https://localhost:8080/"
        },
        "id": "acBxwfFaLMWj",
        "outputId": "a263d1b4-dd4d-4960-b66b-21e754dd8f7c"
      },
      "execution_count": 22,
      "outputs": [
        {
          "output_type": "stream",
          "name": "stdout",
          "text": [
            "Reading package lists... Done\n",
            "Building dependency tree       \n",
            "Reading state information... Done\n",
            "The following package was automatically installed and is no longer required:\n",
            "  libnvidia-common-460\n",
            "Use 'sudo apt autoremove' to remove it.\n",
            "The following NEW packages will be installed:\n",
            "  fonts-nanum\n",
            "0 upgraded, 1 newly installed, 0 to remove and 29 not upgraded.\n",
            "Need to get 9,604 kB of archives.\n",
            "After this operation, 29.5 MB of additional disk space will be used.\n",
            "Get:1 http://archive.ubuntu.com/ubuntu bionic/universe amd64 fonts-nanum all 20170925-1 [9,604 kB]\n",
            "Fetched 9,604 kB in 2s (5,589 kB/s)\n",
            "debconf: unable to initialize frontend: Dialog\n",
            "debconf: (No usable dialog-like program is installed, so the dialog based frontend cannot be used. at /usr/share/perl5/Debconf/FrontEnd/Dialog.pm line 76, <> line 1.)\n",
            "debconf: falling back to frontend: Readline\n",
            "debconf: unable to initialize frontend: Readline\n",
            "debconf: (This frontend requires a controlling tty.)\n",
            "debconf: falling back to frontend: Teletype\n",
            "dpkg-preconfigure: unable to re-open stdin: \n",
            "Selecting previously unselected package fonts-nanum.\n",
            "(Reading database ... 123942 files and directories currently installed.)\n",
            "Preparing to unpack .../fonts-nanum_20170925-1_all.deb ...\n",
            "Unpacking fonts-nanum (20170925-1) ...\n",
            "Setting up fonts-nanum (20170925-1) ...\n",
            "Processing triggers for fontconfig (2.12.6-0ubuntu2) ...\n",
            "/usr/share/fonts: caching, new cache contents: 0 fonts, 1 dirs\n",
            "/usr/share/fonts/truetype: caching, new cache contents: 0 fonts, 3 dirs\n",
            "/usr/share/fonts/truetype/humor-sans: caching, new cache contents: 1 fonts, 0 dirs\n",
            "/usr/share/fonts/truetype/liberation: caching, new cache contents: 16 fonts, 0 dirs\n",
            "/usr/share/fonts/truetype/nanum: caching, new cache contents: 10 fonts, 0 dirs\n",
            "/usr/local/share/fonts: caching, new cache contents: 0 fonts, 0 dirs\n",
            "/root/.local/share/fonts: skipping, no such directory\n",
            "/root/.fonts: skipping, no such directory\n",
            "/var/cache/fontconfig: cleaning cache directory\n",
            "/root/.cache/fontconfig: not cleaning non-existent cache directory\n",
            "/root/.fontconfig: not cleaning non-existent cache directory\n",
            "fc-cache: succeeded\n"
          ]
        }
      ]
    },
    {
      "cell_type": "code",
      "source": [
        "%matplotlib inline\n",
        "import numpy as np\n",
        "import pandas as pd\n",
        "import matplotlib.pyplot as plt\n",
        "import seaborn as sns\n",
        "\n",
        "sns.set()\n",
        "\n",
        "plt.rcParams['font.family'] = ['NanumBarunGothic', 'Malgun Gothic', 'AppleGothic']\n",
        "plt.rcParams['axes.unicode_minus'] = False"
      ],
      "metadata": {
        "id": "pVGp34SGLJ02"
      },
      "execution_count": 23,
      "outputs": []
    },
    {
      "cell_type": "code",
      "source": [
        "plt.rcParams['font.family'] = 'NanumGothic'\n",
        "plt.rcParams['font.family'] = 'Malgun Gothic'"
      ],
      "metadata": {
        "id": "v_eMjVmQLzzJ"
      },
      "execution_count": 25,
      "outputs": []
    },
    {
      "cell_type": "code",
      "source": [
        "hd2.columns"
      ],
      "metadata": {
        "colab": {
          "base_uri": "https://localhost:8080/"
        },
        "id": "vufKE3SZMtkD",
        "outputId": "64af9ff8-abb6-4915-98eb-10e43becae73"
      },
      "execution_count": 33,
      "outputs": [
        {
          "output_type": "execute_result",
          "data": {
            "text/plain": [
              "Index(['기준년도', '가입자일련번호', '시도코드', 'gender', '연령대코드(5세단위)', '신장(5Cm단위)',\n",
              "       '체중(5Kg 단위)', '허리둘레', '시력(좌)', '시력(우)', '청력(좌)', '청력(우)', '수축기혈압',\n",
              "       '이완기혈압', '식전혈당(공복혈당)', '혈색소', '요단백', '혈청크레아티닌', '(혈청지오티)AST',\n",
              "       '(혈청지오티)ALT', '감마지티피', '흡연상태', 'drink', '구강검진수검여부', '데이터공개일자'],\n",
              "      dtype='object')"
            ]
          },
          "metadata": {},
          "execution_count": 33
        }
      ]
    },
    {
      "cell_type": "markdown",
      "source": [
        "## 1)성별에 따른 흡연여부"
      ],
      "metadata": {
        "id": "BHC230jrFVbp"
      }
    },
    {
      "cell_type": "code",
      "source": [
        "hd2 = hd2.rename(columns={'음주여부':'drink'},)"
      ],
      "metadata": {
        "id": "QG_AOIZEL5nK"
      },
      "execution_count": 27,
      "outputs": []
    },
    {
      "cell_type": "code",
      "source": [
        "hd2 = hd2.rename(columns={'성별':'gender'},)"
      ],
      "metadata": {
        "id": "6lLiZqXxMA9Z"
      },
      "execution_count": 28,
      "outputs": []
    },
    {
      "cell_type": "code",
      "source": [
        "hd2['gender'] = hd2['gender'].replace(['남자','여자'], ['Male', 'Female']) "
      ],
      "metadata": {
        "id": "RMtRI9OsMI9v"
      },
      "execution_count": 30,
      "outputs": []
    },
    {
      "cell_type": "code",
      "source": [
        "sns.countplot(data=hd2,x='drink', hue='gender')"
      ],
      "metadata": {
        "colab": {
          "base_uri": "https://localhost:8080/",
          "height": 303
        },
        "id": "3koJVQxELyjE",
        "outputId": "fcd6a65c-fe60-4049-8463-7c5c532bb186"
      },
      "execution_count": 31,
      "outputs": [
        {
          "output_type": "execute_result",
          "data": {
            "text/plain": [
              "<matplotlib.axes._subplots.AxesSubplot at 0x7f620d550bd0>"
            ]
          },
          "metadata": {},
          "execution_count": 31
        },
        {
          "output_type": "display_data",
          "data": {
            "text/plain": [
              "<Figure size 432x288 with 1 Axes>"
            ],
            "image/png": "[encoded data removed]"
          },
          "metadata": {}
        }
      ]
    },
    {
      "cell_type": "markdown",
      "source": [
        "=> 흡연자 남성이 흡연자 여성보다 2배 가까이 많으며, 비흡연자 여성이 비흡연자 남성보다 2배 가까이 많다."
      ],
      "metadata": {
        "id": "LinGkoQ7MUEb"
      }
    },
    {
      "cell_type": "markdown",
      "source": [
        "## 2)AST와 ALT"
      ],
      "metadata": {
        "id": "VjPPlAcZMghJ"
      }
    },
    {
      "cell_type": "code",
      "source": [
        "hd2 = hd2.rename(columns={'(혈청지오티)AST':'AST'},)\n",
        "hd2 = hd2.rename(columns={'(혈청지오티)ALT':'ALT'},)"
      ],
      "metadata": {
        "id": "X6uPMPd0N5qa"
      },
      "execution_count": 34,
      "outputs": []
    },
    {
      "cell_type": "code",
      "source": [
        "print(hd2['ALT'].min())\n",
        "print(hd2['ALT'].max())\n",
        "print(hd2['AST'].min())\n",
        "print(hd2['AST'].max())"
      ],
      "metadata": {
        "colab": {
          "base_uri": "https://localhost:8080/"
        },
        "id": "qVm0qObjOSS6",
        "outputId": "8233cdaa-f284-4289-8640-23a5eb11b030"
      },
      "execution_count": 37,
      "outputs": [
        {
          "output_type": "stream",
          "name": "stdout",
          "text": [
            "2.0\n",
            "1146.0\n",
            "3.0\n",
            "692.0\n"
          ]
        }
      ]
    },
    {
      "cell_type": "code",
      "source": [
        "print(hd2['ALT'].describe())\n",
        "print(\"\")\n",
        "print(hd2['AST'].describe())"
      ],
      "metadata": {
        "colab": {
          "base_uri": "https://localhost:8080/"
        },
        "id": "SmLF0SgLOoQX",
        "outputId": "c07856d0-b6cc-40e8-8662-394cc521a188"
      },
      "execution_count": 39,
      "outputs": [
        {
          "output_type": "stream",
          "name": "stdout",
          "text": [
            "count    9997.000000\n",
            "mean       26.793218\n",
            "std        23.633683\n",
            "min         2.000000\n",
            "25%        16.000000\n",
            "50%        21.000000\n",
            "75%        31.000000\n",
            "max      1146.000000\n",
            "Name: ALT, dtype: float64\n",
            "\n",
            "count    9997.000000\n",
            "mean       27.592391\n",
            "std        17.807507\n",
            "min         3.000000\n",
            "25%        20.000000\n",
            "50%        24.000000\n",
            "75%        30.000000\n",
            "max       692.000000\n",
            "Name: AST, dtype: float64\n"
          ]
        }
      ]
    },
    {
      "cell_type": "code",
      "source": [
        "sns.scatterplot(data = hd2, x = 'AST', y = 'ALT').set(xlim = (3, 500), ylim = (2, 600))"
      ],
      "metadata": {
        "colab": {
          "base_uri": "https://localhost:8080/",
          "height": 307
        },
        "id": "rYoRm2xwMFO9",
        "outputId": "13d0950a-d062-49f9-c246-d051c7dd0f71"
      },
      "execution_count": 40,
      "outputs": [
        {
          "output_type": "execute_result",
          "data": {
            "text/plain": [
              "[(2.0, 600.0), (3.0, 500.0)]"
            ]
          },
          "metadata": {},
          "execution_count": 40
        },
        {
          "output_type": "display_data",
          "data": {
            "text/plain": [
              "<Figure size 432x288 with 1 Axes>"
            ],
            "image/png": "[encoded data removed]"
          },
          "metadata": {}
        }
      ]
    },
    {
      "cell_type": "markdown",
      "source": [
        "=> 우상향하는 그래프로, AST가 높으면 ALT도 높은 경향을 보임을 알 수 있다."
      ],
      "metadata": {
        "id": "VPwlsj2WQf7n"
      }
    },
    {
      "cell_type": "markdown",
      "source": [
        "## 3)음주여부-허리둘레-성별 간 관계"
      ],
      "metadata": {
        "id": "7c_miFr9Q0ve"
      }
    },
    {
      "cell_type": "code",
      "source": [
        "hd2 = hd2.rename(columns={'허리둘레':'WAIST'},)"
      ],
      "metadata": {
        "id": "_aBWaugtZGMS"
      },
      "execution_count": 68,
      "outputs": []
    },
    {
      "cell_type": "code",
      "source": [
        "ax = plt.subplots()\n",
        "ax = sns.violinplot(data=hd2, x='drink',y='WAIST', hue='gender',split=True)"
      ],
      "metadata": {
        "colab": {
          "base_uri": "https://localhost:8080/",
          "height": 285
        },
        "id": "1gr7nSHfaITE",
        "outputId": "75bbbcac-c8cb-4153-aaea-e81244c4e00c"
      },
      "execution_count": 78,
      "outputs": [
        {
          "output_type": "display_data",
          "data": {
            "text/plain": [
              "<Figure size 432x288 with 1 Axes>"
            ],
            "image/png": "[encoded data removed]"
          },
          "metadata": {}
        }
      ]
    },
    {
      "cell_type": "markdown",
      "source": [
        "=> 음주를 하는 사람일수록 허리둘레가 클 것이라 추정했으나, 그래프를 그려 본 결과 예상과 달리 둘 사이에 큰 상관관계는 없는 것으로 추정된다. 오히려 음주를 하지 않는 집단의 바이올린 꼬리가 더 긴 것으로 보아, 음주하지 않는 집단 중 허리둘레가 매우 큰 사람(이상치)가 음주하는 집단보다 더 많은 것으로 파악된다."
      ],
      "metadata": {
        "id": "bl5wIHZ2a7Id"
      }
    }
  ]
}